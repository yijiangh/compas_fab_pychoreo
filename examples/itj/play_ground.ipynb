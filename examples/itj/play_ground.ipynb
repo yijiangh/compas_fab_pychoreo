{
 "cells": [
  {
   "cell_type": "code",
   "execution_count": 1,
   "id": "industrial-magic",
   "metadata": {},
   "outputs": [
    {
     "name": "stdout",
     "output_type": "stream",
     "text": [
      "C:\\Users\\harry\\Dropbox (MIT)\\code_ws_dropbox\\itj_ws\\integral_timber_joints\\external\\compas_fab_pychoreo\\examples\n"
     ]
    }
   ],
   "source": [
    "# add current dir to path\n",
    "import os\n",
    "import sys\n",
    "nb_dir = os.path.abspath(os.path.split(os.getcwd())[0])\n",
    "print(nb_dir)\n",
    "if nb_dir not in sys.path:\n",
    "    sys.path.append(nb_dir)"
   ]
  },
  {
   "cell_type": "code",
   "execution_count": 2,
   "id": "twelve-harvey",
   "metadata": {},
   "outputs": [],
   "source": [
    "from itj.parsing import parse_process\n",
    "from termcolor import cprint"
   ]
  },
  {
   "cell_type": "code",
   "execution_count": 4,
   "id": "exact-destruction",
   "metadata": {},
   "outputs": [],
   "source": [
    "process_file = 'twelve_pieces_process.json'\n",
    "process = parse_process(process_file)\n",
    "assembly = process.assembly # For convinence\n",
    "toolchanger = process.robot_toolchanger"
   ]
  },
  {
   "cell_type": "markdown",
   "id": "tropical-intersection",
   "metadata": {},
   "source": [
    "## Initial state"
   ]
  },
  {
   "cell_type": "code",
   "execution_count": 8,
   "id": "shaped-onion",
   "metadata": {},
   "outputs": [],
   "source": [
    "initial_state = process.initial_state"
   ]
  },
  {
   "cell_type": "code",
   "execution_count": 9,
   "id": "delayed-color",
   "metadata": {},
   "outputs": [
    {
     "name": "stdout",
     "output_type": "stream",
     "text": [
      "State: frame: None | config: Configuration((21.400, -3.746, -3.620, -0.524, -0.524, 0.000, 0.000, 0.524, 0.000), (2, 2, 2, 0, 0, 0, 0, 0, 0), ('robot11_joint_EA_X', 'robot11_joint_EA_Y', 'robot11_joint_EA_Z', 'robot11_joint_1', 'robot11_joint_2', 'robot11_joint_3', 'robot11_joint_4', 'robot11_joint_5', 'robot11_joint_6')) | attached to robot: False | attached to joint: None\n"
     ]
    }
   ],
   "source": [
    "print(initial_state['robot'])"
   ]
  },
  {
   "cell_type": "markdown",
   "id": "welsh-canberra",
   "metadata": {},
   "source": [
    "## Get Gripper mesh / URDF"
   ]
  },
  {
   "cell_type": "code",
   "execution_count": 5,
   "id": "selective-photograph",
   "metadata": {},
   "outputs": [],
   "source": [
    "# gripper1 = process.gripper('g1')\n",
    "# gripper1.to_urdf_file('g1.urdf', prettify=True)"
   ]
  },
  {
   "cell_type": "code",
   "execution_count": 6,
   "id": "qualified-liabilities",
   "metadata": {},
   "outputs": [],
   "source": [
    "from compas.geometry import Frame\n",
    "tool = process.tool('g1')\n",
    "tool.frame = Frame.worldXY()\n",
    "tool_mesh = tool.draw_visual()"
   ]
  },
  {
   "cell_type": "markdown",
   "id": "certain-creek",
   "metadata": {},
   "source": [
    "## Get States"
   ]
  },
  {
   "cell_type": "code",
   "execution_count": 6,
   "id": "utility-farming",
   "metadata": {},
   "outputs": [],
   "source": [
    "import integral_timber_joints\n",
    "import importlib\n",
    "importlib.reload(integral_timber_joints);"
   ]
  },
  {
   "cell_type": "code",
   "execution_count": 10,
   "id": "looking-arbitration",
   "metadata": {},
   "outputs": [
    {
     "name": "stdout",
     "output_type": "stream",
     "text": [
      "0) - priority -1 | Load Beam ('b0') for pickup at Frame(Point(22875.898, 5076.094, 620.825), Vector(0.000, 1.000, 0.000), Vector(-1.000, 0.000, 0.000)) (Side 3 face up).\n",
      "---\n",
      "1) - priority 0 | Free Move to Frame(Point(22744.870, 4645.293, 566.131), Vector(-1.000, -0.000, 0.000), Vector(-0.000, 1.000, -0.000)), target conf: False\n",
      "---\n",
      "2) - priority 0 | Linear Move to Frame(Point(22744.867, 4645.288, 531.131), Vector(-1.000, -0.000, 0.000), Vector(-0.000, 1.000, -0.000)), target conf: True\n",
      "---\n",
      "3) - priority -1 | IO LockTool\n",
      "---\n",
      "4) - priority -1 | IO OpenGripper\n",
      "---\n",
      "5) - priority 0 | Linear Move to Frame(Point(22744.870, 4645.293, 566.131), Vector(-1.000, -0.000, 0.000), Vector(-0.000, 1.000, -0.000)), target conf: False\n",
      "---\n",
      "6) - priority 0 | Free Move to Frame(Point(22412.948, 6549.628, 670.825), Vector(0.000, 0.000, -1.000), Vector(-0.000, 1.000, -0.000)), target conf: False\n",
      "---\n",
      "7) - priority -1 | IO OpenGripper\n",
      "---\n",
      "8) - priority 0 | Linear Move to Frame(Point(22517.948, 6549.628, 670.825), Vector(0.000, 0.000, -1.000), Vector(-0.000, 1.000, -0.000)), target conf: False\n",
      "---\n",
      "9) - priority -1 | IO CloseGripper\n",
      "---\n",
      "10) - priority 0 | Linear Move to Frame(Point(22522.948, 6549.628, 820.825), Vector(0.000, 0.000, -1.000), Vector(-0.000, 1.000, -0.000)), target conf: False\n",
      "---\n",
      "11) - priority 0 | Free Move to Frame(Point(16038.051, 7049.996, 1844.357), Vector(0.000, 1.000, -0.000), Vector(-0.000, 0.000, 1.000)), target conf: False\n",
      "---\n",
      "12) - priority 1 | Linear Move to Frame(Point(16038.051, 7049.996, 1794.357), Vector(0.000, 1.000, -0.000), Vector(-0.000, 0.000, 1.000)), target conf: False\n",
      "---\n",
      "13) - priority -1 | IO OpenGripper\n",
      "---\n",
      "14) - priority 0 | Linear Move to Frame(Point(15933.051, 7049.996, 1794.357), Vector(0.000, 1.000, -0.000), Vector(-0.000, 0.000, 1.000)), target conf: False\n",
      "---\n",
      "15) - priority 0 | Free Move to Frame(Point(22744.870, 4645.293, 566.131), Vector(-1.000, -0.000, 0.000), Vector(-0.000, 1.000, -0.000)), target conf: False\n",
      "---\n",
      "16) - priority 0 | Linear Move to Frame(Point(22744.867, 4645.288, 531.131), Vector(-1.000, -0.000, 0.000), Vector(-0.000, 1.000, -0.000)), target conf: True\n",
      "---\n",
      "17) - priority -1 | IO CloseGripper\n",
      "---\n",
      "18) - priority -1 | IO UnlockTool\n",
      "---\n",
      "19) - priority 0 | Linear Move to Frame(Point(22744.870, 4645.293, 566.131), Vector(-1.000, -0.000, 0.000), Vector(-0.000, 1.000, -0.000)), target conf: False\n",
      "---\n"
     ]
    }
   ],
   "source": [
    "from integral_timber_joints.process import RoboticFreeMovement, RoboticLinearMovement, RoboticMovement\n",
    ",\n",
    "seq = assembly.sequence\n",
    "movements = process.get_movements_by_beam_id(seq[0])\n",
    "for i, m in enumerate(movements):\n",
    "    # if isinstance(m, RoboticLinearMovement) or isinstance(m, RoboticFreeMovement):\n",
    "    print('{}) - priority {} | {}'.format(i, m.planning_priority, m))\n",
    "    print('---')"
   ]
  },
  {
   "cell_type": "code",
   "execution_count": 11,
   "id": "willing-humidity",
   "metadata": {},
   "outputs": [
    {
     "data": {
      "text/plain": [
       "True"
      ]
     },
     "execution_count": 11,
     "metadata": {},
     "output_type": "execute_result"
    }
   ],
   "source": [
    "isinstance(movements[1], RoboticMovement)"
   ]
  },
  {
   "cell_type": "code",
   "execution_count": 9,
   "id": "previous-paste",
   "metadata": {},
   "outputs": [
    {
     "name": "stdout",
     "output_type": "stream",
     "text": [
      "State: current frame: Frame(Point(22744.870, 4645.293, 566.131), Vector(-1.000, -0.000, 0.000), Vector(-0.000, 1.000, -0.000)) | config: None | attached to robot: False | attached to joint: None\n"
     ]
    }
   ],
   "source": [
    "print(process.get_movement_start_state(movements[2])['robot'])"
   ]
  },
  {
   "cell_type": "code",
   "execution_count": 9,
   "id": "proud-firmware",
   "metadata": {},
   "outputs": [
    {
     "name": "stdout",
     "output_type": "stream",
     "text": [
      "<class 'integral_timber_joints.process.movement.RoboticFreeMovement'>\n",
      "dict_keys(['b0', 'b1', 'b10', 'b11', 'b12', 'b13', 'b14', 'b15', 'b16', 'b17', 'b18', 'b19', 'b2', 'b20', 'b21', 'b22', 'b23', 'b24', 'b25', 'b26', 'b27', 'b28', 'b29', 'b3', 'b30', 'b31', 'b32', 'b33', 'b34', 'b35', 'b36', 'b37', 'b38', 'b39', 'b4', 'b5', 'b6', 'b7', 'b8', 'b9', 'c1', 'c2', 'c3', 'c4', 'g1', 'g2', 'robot', 'tool_changer'])\n"
     ]
    }
   ],
   "source": [
    "m_id = 11\n",
    "m = movements[m_id]\n",
    "print(type(m))\n",
    "start_state = process.get_movement_start_state(m)\n",
    "print(start_state.keys())"
   ]
  },
  {
   "cell_type": "code",
   "execution_count": 10,
   "id": "ordered-metabolism",
   "metadata": {},
   "outputs": [
    {
     "name": "stdout",
     "output_type": "stream",
     "text": [
      "<class 'integral_timber_joints.process.movement.RoboticLinearMovement'>\n",
      "dict_keys(['b0', 'b1', 'b10', 'b11', 'b12', 'b13', 'b14', 'b15', 'b16', 'b17', 'b18', 'b19', 'b2', 'b20', 'b21', 'b22', 'b23', 'b24', 'b25', 'b26', 'b27', 'b28', 'b29', 'b3', 'b30', 'b31', 'b32', 'b33', 'b34', 'b35', 'b36', 'b37', 'b38', 'b39', 'b4', 'b5', 'b6', 'b7', 'b8', 'b9', 'c1', 'c2', 'c3', 'c4', 'g1', 'g2', 'robot', 'tool_changer'])\n",
      "{'current_frame': Frame(Point(16038.051, 7049.996, 1844.357), Vector(0.000, 1.000, -0.000), Vector(-0.000, 0.000, 1.000)), 'kinematic_config': None, 'attached_to_robot': False, 'attached_to_joint': None}\n",
      "{'current_frame': Frame(Point(23379.398, 4643.428, 712.425), Vector(0.000, -1.000, 0.000), Vector(-1.000, -0.000, -0.000)), 'kinematic_config': None, 'attached_to_robot': False, 'attached_to_joint': None}\n",
      "{'current_frame': Frame(Point(16038.051, 7049.996, 1844.357), Vector(0.000, 1.000, -0.000), Vector(-0.000, 0.000, 1.000)), 'kinematic_config': None, 'attached_to_robot': True, 'attached_to_joint': None}\n"
     ]
    }
   ],
   "source": [
    "m_id = 12\n",
    "m = movements[m_id]\n",
    "print(type(m))\n",
    "start_state = process.get_movement_start_state(m)\n",
    "print(start_state.keys())\n",
    "print(start_state['robot'].to_data())\n",
    "print(start_state['g1'].to_data())\n",
    "print(start_state['tool_changer'].to_data())"
   ]
  },
  {
   "cell_type": "code",
   "execution_count": 60,
   "id": "paperback-ukraine",
   "metadata": {},
   "outputs": [],
   "source": [
    "# print(process.initial_state['b0'])\n",
    "from compas.geometry import Frame\n",
    "\n",
    "for object_id, object_state in process.initial_state.items():\n",
    "    # Draw each object in the state dictionary\n",
    "    # print (object_id, object_state)\n",
    "    if object_id.startswith('b'):\n",
    "        beam = process.assembly.beam(object_id)\n",
    "        beam.current_frame = Frame.worldXY()\n",
    "        meshes = beam.draw_state(object_state)\n",
    "\n",
    "    # Tool objects\n",
    "    # if object_id.startswith('c') or object_id.startswith('g'):\n",
    "    #     tool = process.tool(object_id)\n",
    "    #     meshes = tool.draw_state(object_state)\n",
    "\n",
    "    # # Tool Changer\n",
    "    # if object_id.startswith('t'):\n",
    "    #     tool = process.robot_toolchanger\n",
    "    #     meshes = tool.draw_state(object_state)"
   ]
  },
  {
   "cell_type": "code",
   "execution_count": 55,
   "id": "hispanic-polyester",
   "metadata": {},
   "outputs": [
    {
     "name": "stdout",
     "output_type": "stream",
     "text": [
      "{}\n"
     ]
    }
   ],
   "source": [
    "# TODO double check with Victor\n",
    "print(process.environment_models)"
   ]
  },
  {
   "cell_type": "markdown",
   "id": "successful-dublin",
   "metadata": {},
   "source": [
    "## Grasp"
   ]
  },
  {
   "cell_type": "code",
   "execution_count": 35,
   "id": "modern-climate",
   "metadata": {},
   "outputs": [
    {
     "data": {
      "text/plain": [
       "Transformation([[1.0, -0.0, 0.0, 1541.2621765136737], [0.0, 0.0, -1.0, 100.0], [0.0, 1.0, 0.0, 50.0], [0.0, 0.0, 0.0, 1.0]])"
      ]
     },
     "execution_count": 35,
     "metadata": {},
     "output_type": "execute_result"
    }
   ],
   "source": [
    "from compas.geometry import Transformation\n",
    "\n",
    "beam_id = 'b1'\n",
    "beam_ocf_from_gripper_tcp = Transformation.from_frame(process.assembly.get_beam_attribute(beam_id, \"gripper_tcp_in_ocf\"))\n",
    "beam_ocf_from_gripper_tcp"
   ]
  }
 ],
 "metadata": {
  "kernelspec": {
   "display_name": "Python 3",
   "language": "python",
   "name": "python3"
  },
  "language_info": {
   "codemirror_mode": {
    "name": "ipython",
    "version": 3
   },
   "file_extension": ".py",
   "mimetype": "text/x-python",
   "name": "python",
   "nbconvert_exporter": "python",
   "pygments_lexer": "ipython3",
   "version": "3.7.9"
  }
 },
 "nbformat": 4,
 "nbformat_minor": 5
}
